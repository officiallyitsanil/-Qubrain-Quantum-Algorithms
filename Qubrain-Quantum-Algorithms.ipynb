{
 "cells": [
  {
   "cell_type": "markdown",
   "id": "2f0aeef1",
   "metadata": {},
   "source": [
    "# Quantum Algorithms Tutorial\n",
    "In this tutorial, we will explore two foundational quantum algorithms:\n",
    "- **Grover's Algorithm**: For searching an unsorted database.\n",
    "- **Shor's Algorithm**: For integer factorization.\n",
    "\n",
    "We'll use the `qiskit` library to simulate these algorithms."
   ]
  },
  {
   "cell_type": "code",
   "execution_count": null,
   "id": "236e7e51",
   "metadata": {},
   "outputs": [],
   "source": [
    "# Install qiskit if not already installed\n",
    "!pip install qiskit"
   ]
  },
  {
   "cell_type": "markdown",
   "id": "152eab0a",
   "metadata": {},
   "source": [
    "## Grover's Algorithm\n",
    "Grover's algorithm provides a quadratic speed-up for searching an unsorted database. Let's simulate it for a 2-qubit system."
   ]
  },
  {
   "cell_type": "code",
   "execution_count": null,
   "id": "ef139901",
   "metadata": {},
   "outputs": [],
   "source": [
    "from qiskit import QuantumCircuit, Aer, transpile, assemble, execute\n",
    "from qiskit.visualization import plot_histogram\n",
    "import matplotlib.pyplot as plt\n",
    "\n",
    "# Create a Grover's algorithm circuit for 2 qubits\n",
    "oracle = QuantumCircuit(2)\n",
    "oracle.cz(0, 1)  # Oracle marking |11>\n",
    "oracle_gate = oracle.to_gate()\n",
    "\n",
    "grover = QuantumCircuit(2)\n",
    "grover.h([0, 1])\n",
    "grover.append(oracle_gate, [0, 1])\n",
    "grover.h([0, 1])\n",
    "grover.x([0, 1])\n",
    "grover.h(1)\n",
    "grover.cx(0, 1)\n",
    "grover.h(1)\n",
    "grover.x([0, 1])\n",
    "grover.h([0, 1])\n",
    "grover.measure_all()\n",
    "\n",
    "# Simulate the circuit\n",
    "simulator = Aer.get_backend('qasm_simulator')\n",
    "compiled = transpile(grover, simulator)\n",
    "qobj = assemble(compiled)\n",
    "results = simulator.run(qobj).result()\n",
    "counts = results.get_counts()\n",
    "plot_histogram(counts)\n",
    "plt.show()"
   ]
  },
  {
   "cell_type": "markdown",
   "id": "39ad86fe",
   "metadata": {},
   "source": [
    "## Shor's Algorithm (Simulation)\n",
    "Qiskit provides a simple way to simulate Shor’s algorithm using its built-in function."
   ]
  },
  {
   "cell_type": "code",
   "execution_count": null,
   "id": "88f38422",
   "metadata": {},
   "outputs": [],
   "source": [
    "from qiskit.algorithms import Shor\n",
    "from qiskit.utils import QuantumInstance\n",
    "from qiskit_aer import AerSimulator\n",
    "\n",
    "shor = Shor()\n",
    "qi = QuantumInstance(AerSimulator())\n",
    "result = shor.factor(15)\n",
    "print(\"Factors of 15:\", result.factors[0])"
   ]
  }
 ],
 "metadata": {
  "kernelspec": {
   "display_name": "Python 3",
   "language": "python",
   "name": "python3"
  },
  "language_info": {
   "name": "python",
   "version": "3.9"
  }
 },
 "nbformat": 4,
 "nbformat_minor": 5
}
